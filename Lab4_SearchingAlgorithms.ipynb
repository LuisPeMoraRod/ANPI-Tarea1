{
  "nbformat": 4,
  "nbformat_minor": 0,
  "metadata": {
    "colab": {
      "provenance": [],
      "authorship_tag": "ABX9TyP4So2tAJ0X00J58EUKOVK+",
      "include_colab_link": true
    },
    "kernelspec": {
      "name": "python3",
      "display_name": "Python 3"
    },
    "language_info": {
      "name": "python"
    }
  },
  "cells": [
    {
      "cell_type": "markdown",
      "metadata": {
        "id": "view-in-github",
        "colab_type": "text"
      },
      "source": [
        "<a href=\"https://colab.research.google.com/github/LuisPeMoraRod/ANPI.tarea1/blob/main/Lab4_SearchingAlgorithms.ipynb\" target=\"_parent\"><img src=\"https://colab.research.google.com/assets/colab-badge.svg\" alt=\"Open In Colab\"/></a>"
      ]
    },
    {
      "cell_type": "code",
      "execution_count": null,
      "metadata": {
        "id": "QjyraT6jH-wJ"
      },
      "outputs": [],
      "source": []
    },
    {
      "cell_type": "markdown",
      "source": [
        "### Ejercicio 1.b\n"
      ],
      "metadata": {
        "id": "eyvs-I0WIKPH"
      }
    },
    {
      "cell_type": "code",
      "source": [
        "# matrix representation for the map: 1 means a reachable point, 0 means it's a wall\n",
        "map_info = [[0,1,1,1,0,1,1,1,0,1],\n",
        "            [0,0,1,0,0,1,0,0,0,1],\n",
        "            [0,1,1,1,1,1,1,1,1,1],\n",
        "            [0,0,0,0,0,1,0,0,0,0],\n",
        "            [1,1,1,0,1,1,1,1,1,1],\n",
        "            [1,0,0,0,1,0,0,0,1,0],\n",
        "            [1,1,1,1,1,0,1,0,1,1],\n",
        "            [0,0,0,0,1,0,1,0,1,0],\n",
        "            [1,1,1,1,1,1,1,0,1,1]]\n",
        "\n",
        "class MapNode:\n",
        "  \"\"\"\n",
        "  This class represents a node in the map's graph.\n",
        "  \"\"\"\n",
        "\n",
        "  def __init__():\n",
        "    "
      ],
      "metadata": {
        "id": "-4ezGfC7IOBV"
      },
      "execution_count": null,
      "outputs": []
    }
  ]
}